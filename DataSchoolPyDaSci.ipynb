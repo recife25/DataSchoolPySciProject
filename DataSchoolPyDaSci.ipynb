{
  "nbformat": 4,
  "nbformat_minor": 0,
  "metadata": {
    "colab": {
      "provenance": [],
      "authorship_tag": "ABX9TyP1B4jwGz6bGsBdKhsbsfFa",
      "include_colab_link": true
    },
    "kernelspec": {
      "name": "python3",
      "display_name": "Python 3"
    },
    "language_info": {
      "name": "python"
    }
  },
  "cells": [
    {
      "cell_type": "markdown",
      "metadata": {
        "id": "view-in-github",
        "colab_type": "text"
      },
      "source": [
        "<a href=\"https://colab.research.google.com/github/recife25/DataSchoolPySciProject/blob/main/DataSchoolPyDaSci.ipynb\" target=\"_parent\"><img src=\"https://colab.research.google.com/assets/colab-badge.svg\" alt=\"Open In Colab\"/></a>"
      ]
    },
    {
      "cell_type": "code",
      "execution_count": null,
      "metadata": {
        "colab": {
          "base_uri": "https://localhost:8080/"
        },
        "id": "BucMNQZr1mgp",
        "outputId": "5a638318-eb00-4574-e2b1-383c6985d8f6"
      },
      "outputs": [
        {
          "output_type": "execute_result",
          "data": {
            "text/plain": [
              "['apple', 'bananas', 'cherry']"
            ]
          },
          "metadata": {},
          "execution_count": 1
        }
      ],
      "source": [
        "#list comprehension\n",
        "fruits = ['apple', 'bananas', 'cherry']\n",
        "fruits"
      ]
    },
    {
      "cell_type": "code",
      "source": [
        "for fruits in fruits:\n",
        "  print(fruits)"
      ],
      "metadata": {
        "colab": {
          "base_uri": "https://localhost:8080/"
        },
        "id": "7d7aB17r12w_",
        "outputId": "499b885b-cabb-4025-8050-0a646f0b9866"
      },
      "execution_count": null,
      "outputs": [
        {
          "output_type": "stream",
          "name": "stdout",
          "text": [
            "apple\n",
            "bananas\n",
            "cherry\n"
          ]
        }
      ]
    },
    {
      "cell_type": "code",
      "source": [
        "for x in fruits:\n",
        "  if x == 'bananas':\n",
        "    break\n",
        "  print(x)"
      ],
      "metadata": {
        "colab": {
          "base_uri": "https://localhost:8080/"
        },
        "id": "mMZL-4ZU2B42",
        "outputId": "4eba056f-43e9-45cd-df4e-36d578ac5ebc"
      },
      "execution_count": null,
      "outputs": [
        {
          "output_type": "stream",
          "name": "stdout",
          "text": [
            "c\n",
            "h\n",
            "e\n",
            "r\n",
            "r\n",
            "y\n"
          ]
        }
      ]
    },
    {
      "cell_type": "code",
      "source": [
        "for fruits in fruits:\n",
        "  print(list(fruits))"
      ],
      "metadata": {
        "colab": {
          "base_uri": "https://localhost:8080/"
        },
        "id": "oV928cyn2JmN",
        "outputId": "61713588-350e-4e65-ea44-dbab64d6703b"
      },
      "execution_count": null,
      "outputs": [
        {
          "output_type": "stream",
          "name": "stdout",
          "text": [
            "['c']\n"
          ]
        }
      ]
    },
    {
      "cell_type": "code",
      "source": [
        "#list comprehension\n",
        "fruits = ['apple', 'bananas', 'cherry']\n",
        "#[expression for item in iterable if condition]\n",
        "newlist = [x for x in fruits if 'a' in x]\n",
        "print(newlist)"
      ],
      "metadata": {
        "colab": {
          "base_uri": "https://localhost:8080/"
        },
        "id": "D6qNSZCW2dwJ",
        "outputId": "7d2ddeb2-9e65-4190-e86d-dedb28999604"
      },
      "execution_count": null,
      "outputs": [
        {
          "output_type": "stream",
          "name": "stdout",
          "text": [
            "['apple', 'bananas']\n"
          ]
        }
      ]
    },
    {
      "cell_type": "code",
      "source": [
        "num = [1,2,3,4,5,6,7,8,9]\n",
        "for nums in num:\n",
        "  print(nums*2)"
      ],
      "metadata": {
        "colab": {
          "base_uri": "https://localhost:8080/"
        },
        "id": "CTIo528P6e0Z",
        "outputId": "09ee9c20-d6b7-4725-e6e4-6c9a54ecf3d8"
      },
      "execution_count": null,
      "outputs": [
        {
          "output_type": "stream",
          "name": "stdout",
          "text": [
            "2\n",
            "4\n",
            "6\n",
            "8\n",
            "10\n",
            "12\n",
            "14\n",
            "16\n",
            "18\n"
          ]
        }
      ]
    },
    {
      "cell_type": "code",
      "source": [
        "%pwd\n"
      ],
      "metadata": {
        "colab": {
          "base_uri": "https://localhost:8080/",
          "height": 35
        },
        "id": "c7ATRJ447RJU",
        "outputId": "c77e9219-b798-4544-8352-3a0d268a8404"
      },
      "execution_count": null,
      "outputs": [
        {
          "output_type": "execute_result",
          "data": {
            "text/plain": [
              "'/content'"
            ],
            "application/vnd.google.colaboratory.intrinsic+json": {
              "type": "string"
            }
          },
          "metadata": {},
          "execution_count": 1
        }
      ]
    },
    {
      "cell_type": "code",
      "source": [
        "%ls -la"
      ],
      "metadata": {
        "colab": {
          "base_uri": "https://localhost:8080/"
        },
        "id": "YyJeIM9-tlkf",
        "outputId": "d2d1bb35-65a5-4a18-c8f3-8206621ae71a"
      },
      "execution_count": null,
      "outputs": [
        {
          "output_type": "stream",
          "name": "stdout",
          "text": [
            "total 16\n",
            "drwxr-xr-x 1 root root 4096 Jun 18 13:35 \u001b[0m\u001b[01;34m.\u001b[0m/\n",
            "drwxr-xr-x 1 root root 4096 Jun 22 17:35 \u001b[01;34m..\u001b[0m/\n",
            "drwxr-xr-x 4 root root 4096 Jun 18 13:35 \u001b[01;34m.config\u001b[0m/\n",
            "drwxr-xr-x 1 root root 4096 Jun 18 13:35 \u001b[01;34msample_data\u001b[0m/\n"
          ]
        }
      ]
    },
    {
      "cell_type": "code",
      "source": [
        "%cd"
      ],
      "metadata": {
        "id": "vXq1WK5Xtt6-"
      },
      "execution_count": null,
      "outputs": []
    }
  ]
}